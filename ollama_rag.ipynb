{
 "cells": [
  {
   "cell_type": "code",
   "execution_count": 1,
   "metadata": {},
   "outputs": [],
   "source": [
    "from langchain_community.document_loaders import Docx2txtLoader\n",
    "from langchain_text_splitters import RecursiveCharacterTextSplitter\n",
    "\n",
    "text_splitter = RecursiveCharacterTextSplitter(\n",
    "    chunk_size=1500,    # split되 최대 chunk 크기\n",
    "    chunk_overlap=200,  # 앞/뒤 문서가 겹쳐지는 부분(연결성을 위해)\n",
    ")\n",
    "\n",
    "loader = Docx2txtLoader('./tax_doc.docx')\n",
    "document_list = loader.load_and_split(text_splitter=text_splitter)"
   ]
  },
  {
   "cell_type": "code",
   "execution_count": 2,
   "metadata": {},
   "outputs": [],
   "source": [
    "from langchain_core.messages import AIMessage\n",
    "from langchain_ollama import ChatOllama\n",
    "\n",
    "# model = \"llama3.2:latest\"\n",
    "model = \"llama3.1:latest\"\n",
    "\n",
    "llm = ChatOllama(\n",
    "    model=model,   # 사용할 언어 모델 지정\n",
    "    temperature=0.8,    #  상상력   \n",
    "    # other params...\n",
    "    num_predict=256, # 생성할 수 있는 최대 토큰 수 \n",
    "    format=\"json\"\n",
    ")"
   ]
  },
  {
   "cell_type": "code",
   "execution_count": null,
   "metadata": {},
   "outputs": [],
   "source": [
    "from langchain_ollama import"
   ]
  },
  {
   "cell_type": "code",
   "execution_count": 3,
   "metadata": {},
   "outputs": [],
   "source": [
    "from langchain_ollama import OllamaEmbeddings\n",
    "\n",
    "embeddings = OllamaEmbeddings(\n",
    "    model=model,\n",
    ")"
   ]
  },
  {
   "cell_type": "code",
   "execution_count": 4,
   "metadata": {},
   "outputs": [],
   "source": [
    "from langchain_chroma import Chroma\n",
    "\n",
    "# 이미 저장된 데이터를 사용할 때 \n",
    "database = Chroma(collection_name='chroma-tax', persist_directory=\"./chroma\", embedding_function=embeddings)"
   ]
  },
  {
   "cell_type": "markdown",
   "metadata": {},
   "source": [
    "### 3. 답변 생성을 위한 Retrieval\n",
    "\n",
    "- `Chroma`에 저장한 데이터를 유사도 검색(`similarity_search()`)를 활용해서 가져옴"
   ]
  },
  {
   "cell_type": "code",
   "execution_count": 5,
   "metadata": {},
   "outputs": [],
   "source": [
    "query = '연봉 5천만원인 직장인의 소득세는 얼마인가요?'\n",
    "\n",
    "# `k` 값을 조절해서 얼마나 많은 데이터를 불러올지 결정\n",
    "retrieved_docs = database.similarity_search(query, k=3)"
   ]
  },
  {
   "cell_type": "code",
   "execution_count": 7,
   "metadata": {},
   "outputs": [
    {
     "name": "stdout",
     "output_type": "stream",
     "text": [
      "page_content='제7조(장기보유 특별공제액의 계산에 관한 적용례) 제95조제5항 및 제6항의 개정규정은 2025년 1월 1일 이후 자산을 양도하는 경우부터 적용한다.\n",
      "\n",
      "제8조(양도소득의 필요경비 계산 특례에 관한 적용례) 제97조의2제1항의 개정규정은 이 법 시행 이후 자산을 양도하는 경우부터 적용한다.\n",
      "\n",
      "제9조(조세조약상 비과세ㆍ면제 또는 제한세율의 적용을 위한 경정청구기간에 관한 적용례) 제156조의2제5항 본문, 제156조의4제2항 본문 및 제156조의6제4항 본문의 개정규정은 이 법 시행 당시 각각 같은 개정규정에 따른 경정청구기간이 만료되지 아니한 경우에도 적용한다.\n",
      "\n",
      "제10조(외국인 통합계좌 원천징수 특례에 관한 적용례) 제156조의9의 개정규정은 이 법 시행 이후 외국인 통합계좌의 명의인에게 국내원천소득을 지급하는 경우부터 적용한다.\n",
      "\n",
      "제11조(국외 주식매수선택권등 거래명세서 제출에 관한 적용례) 제164조의5의 개정규정은 이 법 시행 이후 임원등이 주식매수선택권을 행사하거나 주식기준보상을 지급받는 경우부터 적용한다.\n",
      "\n",
      "제12조(신탁소득에 대한 소득세 과세에 관한 경과조치) 이 법 시행 전에 신탁재산에 귀속된 소득에 대해서는 제2조의3제2항의 개정규정에도 불구하고 종전의 규정에 따른다.\n",
      "\n",
      "제13조(분리과세 기준금액 상향에 관한 경과조치) 이 법 시행 전에 지급받은 연금소득의 분리과세 기준금액에 관하여는 제14조제3항제9호다목의 개정규정에도 불구하고 종전의 규정에 따른다.\n",
      "\n",
      "제14조(배당가산율 인하에 관한 경과조치) 이 법 시행 전에 지급받은 배당소득의 소득금액 계산에 관하여는 제17조제3항 각 호 외의 부분 단서의 개정규정에도 불구하고 종전의 규정에 따른다.\n",
      "\n",
      "제15조(주택의 보증금등에 대한 총수입금액 계산의 특례에 관한 경과조치) 이 법 시행 전에 개시한 과세기간의 총수입금액 계산에 관하여는 제25조제1항제2호의 개정규정에도 불구하고 종전의 규정에 따른다.\n",
      "\n",
      "제16조(장기주택저당차입금 이자 상환액의 소득공제에 관한 경과조치 등) ① 이 법 시행 전에 취득한 주택 및 주택분양권에 대한 장기주택저당차입금 이자 상환액의 소득공제 대상 주택 및 주택분양권의 범위에 관하여는 제52조제5항 각 호 외의 부분 본문 및 같은 항 제4호 본문의 개정규정에도 불구하고 종전의 규정에 따른다.\n",
      "\n",
      "② 이 법 시행 전에 차입한 장기주택저당차입금의 이자 상환액에 대한 소득공제 한도에 관하여는 다음 각 호의 구분에 따른다.\n",
      "\n",
      "1. 이 법 시행 전에 지급한 이자 상환액의 경우: 제52조제5항 각 호 외의 부분 단서 및 같은 조 제6항의 개정규정에도 불구하고 종전의 규정에 따른다.' metadata={'source': './tax_doc.docx'}\n"
     ]
    }
   ],
   "source": [
    "print(retrieved_docs[1])"
   ]
  },
  {
   "cell_type": "markdown",
   "metadata": {},
   "source": [
    "### 4. Augmentation을 위한 Prompt 활용\n",
    "\n",
    "- Retrieval된 데이터는 LangChain에서 제공하는 프롬프트(`\"rlm/rag-prompt\"`) 사용"
   ]
  },
  {
   "cell_type": "code",
   "execution_count": 8,
   "metadata": {},
   "outputs": [
    {
     "name": "stderr",
     "output_type": "stream",
     "text": [
      "c:\\Users\\Admin\\anaconda3\\envs\\tftest\\lib\\site-packages\\langsmith\\client.py:241: LangSmithMissingAPIKeyWarning: API key must be provided when using hosted LangSmith API\n",
      "  warnings.warn(\n"
     ]
    }
   ],
   "source": [
    "from langchain import hub\n",
    "\n",
    "prompt = hub.pull(\"rlm/rag-prompt\")"
   ]
  },
  {
   "cell_type": "code",
   "execution_count": 9,
   "metadata": {},
   "outputs": [],
   "source": [
    "from langchain.chains import RetrievalQA\n",
    "\n",
    "qa_chain = RetrievalQA.from_chain_type(\n",
    "    llm, \n",
    "    retriever=database.as_retriever(),\n",
    "    chain_type_kwargs={\"prompt\": prompt}\n",
    ")"
   ]
  },
  {
   "cell_type": "code",
   "execution_count": 10,
   "metadata": {},
   "outputs": [
    {
     "name": "stderr",
     "output_type": "stream",
     "text": [
      "C:\\Users\\Admin\\AppData\\Local\\Temp\\ipykernel_16048\\3455095564.py:1: LangChainDeprecationWarning: The method `Chain.__call__` was deprecated in langchain 0.1.0 and will be removed in 1.0. Use invoke instead.\n",
      "  ai_message = qa_chain({\"query\": query})\n"
     ]
    }
   ],
   "source": [
    "ai_message = qa_chain({\"query\": query})"
   ]
  },
  {
   "cell_type": "code",
   "execution_count": 11,
   "metadata": {},
   "outputs": [],
   "source": [
    "# 강의에서는 위처럼 진행하지만 업데이트된 LangChain 문법은 `.invoke()` 활용을 권장\n",
    "ai_message = qa_chain.invoke({\"query\": query})"
   ]
  },
  {
   "cell_type": "code",
   "execution_count": 12,
   "metadata": {},
   "outputs": [
    {
     "data": {
      "text/plain": [
       "{'query': '연봉 5천만원인 직장인의 소득세는 얼마인가요?',\n",
       " 'result': '{\"제162조의3은 현금영수증 가맹점의 입장에서 현금영수증 발급이 의무화되어 있음을 표시하는 것에 대한 법적 근거입니다. 따라서 이 조문은 현금영수증을 발급해야 하는 사업자의 의무와 관련된 것입니다.\" \\n\\n  \\n\\n\\n\\n\\n\\n \\n\\n\\n\\n\\n\\n\\n\\n  \\n\\n\\n\\n\\n\\n  \\n\\n\\n\\n\\n\\n \\n \\n\\n \\n\\n \\n\\n \\n\\n \\n\\n \\n\\n \\n\\n \\n\\n \\n\\n \\n\\n\\n  \\n\\n \\n\\n \\n\\n \\n\\n\\n\\n \\n\\n\\n\\n \\n\\n\\n\\n\\n\\n\\n \\n\\n'}"
      ]
     },
     "execution_count": 12,
     "metadata": {},
     "output_type": "execute_result"
    }
   ],
   "source": [
    "ai_message"
   ]
  },
  {
   "cell_type": "markdown",
   "metadata": {},
   "source": [
    "# Chroma DB를 이용한 RAG 구성하기\n",
    "\n",
    "- create_retrieval_chain 사용하기\n",
    "- create_retrieval_chain의 목적\n",
    "   1. Retriever를 사용해 문서를 검색.\n",
    "   2. Combine chain을 통해 검색된 문서를 결합하여 최종 결과를 생성.\n",
    "\n",
    "-  LangChain에서 create_retrieval_chain를 사용하면 검색과 결합 과정을 유기적으로 연결하여 검색 기반 질문 답변 시스템을 쉽게 구축할 수 있다"
   ]
  },
  {
   "cell_type": "markdown",
   "metadata": {},
   "source": [
    "```py\n",
    "%pip install python-dotenv langchain langchain-openai langchain-community langchain-text-splitters docx2txt langchain-chroma\n",
    "```"
   ]
  },
  {
   "cell_type": "code",
   "execution_count": 14,
   "metadata": {},
   "outputs": [],
   "source": [
    "from langchain_community.document_loaders import Docx2txtLoader\n",
    "from langchain_text_splitters import RecursiveCharacterTextSplitter\n",
    "\n",
    "text_splitter = RecursiveCharacterTextSplitter(\n",
    "    chunk_size=1500,\n",
    "    chunk_overlap=200,\n",
    ")\n",
    "\n",
    "loader = Docx2txtLoader('./tax_doc_markdown.docx')\n",
    "document_list = loader.load_and_split(text_splitter=text_splitter)"
   ]
  },
  {
   "cell_type": "markdown",
   "metadata": {},
   "source": [
    "모델 Embedding 하기 "
   ]
  },
  {
   "cell_type": "code",
   "execution_count": 15,
   "metadata": {},
   "outputs": [],
   "source": [
    "from langchain_ollama import OllamaEmbeddings\n",
    "\n",
    "embeddings = OllamaEmbeddings(\n",
    "    model=model,\n",
    ")"
   ]
  },
  {
   "cell_type": "markdown",
   "metadata": {},
   "source": [
    "- chroma DB 생성하기"
   ]
  },
  {
   "cell_type": "code",
   "execution_count": 16,
   "metadata": {},
   "outputs": [],
   "source": [
    "from langchain_chroma import Chroma\n",
    "\n",
    "# 이미 저장된 데이터를 사용할 때 \n",
    "database = Chroma(collection_name='chroma-tax', persist_directory=\"./chroma\", embedding_function=embeddings)"
   ]
  },
  {
   "cell_type": "code",
   "execution_count": 17,
   "metadata": {},
   "outputs": [],
   "source": [
    "query = '연봉 5천만원인 직장인의 소득세는 얼마인가요?'\n",
    "\n",
    "# `k` 값을 조절해서 얼마나 많은 데이터를 불러올지 결정\n",
    "# retrieved_docs = database.similarity_search(query, k=3)\n",
    "retriever = database.as_retriever(search_kwargs={\"k\": 1},)"
   ]
  },
  {
   "cell_type": "code",
   "execution_count": 18,
   "metadata": {},
   "outputs": [
    {
     "data": {
      "text/plain": [
       "[Document(metadata={'source': './tax_doc.docx'}, page_content='제7조(장기보유 특별공제액의 계산에 관한 적용례) 제95조제5항 및 제6항의 개정규정은 2025년 1월 1일 이후 자산을 양도하는 경우부터 적용한다.\\n\\n제8조(양도소득의 필요경비 계산 특례에 관한 적용례) 제97조의2제1항의 개정규정은 이 법 시행 이후 자산을 양도하는 경우부터 적용한다.\\n\\n제9조(조세조약상 비과세ㆍ면제 또는 제한세율의 적용을 위한 경정청구기간에 관한 적용례) 제156조의2제5항 본문, 제156조의4제2항 본문 및 제156조의6제4항 본문의 개정규정은 이 법 시행 당시 각각 같은 개정규정에 따른 경정청구기간이 만료되지 아니한 경우에도 적용한다.\\n\\n제10조(외국인 통합계좌 원천징수 특례에 관한 적용례) 제156조의9의 개정규정은 이 법 시행 이후 외국인 통합계좌의 명의인에게 국내원천소득을 지급하는 경우부터 적용한다.\\n\\n제11조(국외 주식매수선택권등 거래명세서 제출에 관한 적용례) 제164조의5의 개정규정은 이 법 시행 이후 임원등이 주식매수선택권을 행사하거나 주식기준보상을 지급받는 경우부터 적용한다.\\n\\n제12조(신탁소득에 대한 소득세 과세에 관한 경과조치) 이 법 시행 전에 신탁재산에 귀속된 소득에 대해서는 제2조의3제2항의 개정규정에도 불구하고 종전의 규정에 따른다.\\n\\n제13조(분리과세 기준금액 상향에 관한 경과조치) 이 법 시행 전에 지급받은 연금소득의 분리과세 기준금액에 관하여는 제14조제3항제9호다목의 개정규정에도 불구하고 종전의 규정에 따른다.\\n\\n제14조(배당가산율 인하에 관한 경과조치) 이 법 시행 전에 지급받은 배당소득의 소득금액 계산에 관하여는 제17조제3항 각 호 외의 부분 단서의 개정규정에도 불구하고 종전의 규정에 따른다.\\n\\n제15조(주택의 보증금등에 대한 총수입금액 계산의 특례에 관한 경과조치) 이 법 시행 전에 개시한 과세기간의 총수입금액 계산에 관하여는 제25조제1항제2호의 개정규정에도 불구하고 종전의 규정에 따른다.\\n\\n제16조(장기주택저당차입금 이자 상환액의 소득공제에 관한 경과조치 등) ① 이 법 시행 전에 취득한 주택 및 주택분양권에 대한 장기주택저당차입금 이자 상환액의 소득공제 대상 주택 및 주택분양권의 범위에 관하여는 제52조제5항 각 호 외의 부분 본문 및 같은 항 제4호 본문의 개정규정에도 불구하고 종전의 규정에 따른다.\\n\\n② 이 법 시행 전에 차입한 장기주택저당차입금의 이자 상환액에 대한 소득공제 한도에 관하여는 다음 각 호의 구분에 따른다.\\n\\n1. 이 법 시행 전에 지급한 이자 상환액의 경우: 제52조제5항 각 호 외의 부분 단서 및 같은 조 제6항의 개정규정에도 불구하고 종전의 규정에 따른다.')]"
      ]
     },
     "execution_count": 18,
     "metadata": {},
     "output_type": "execute_result"
    }
   ],
   "source": [
    "retriever.invoke(query)"
   ]
  },
  {
   "cell_type": "markdown",
   "metadata": {},
   "source": [
    "### 4. Augmentation을 위한 Prompt 활용\n",
    "\n",
    "- Retrieval된 데이터는 LangChain에서 제공하는 프롬프트(`\"rlm/rag-prompt\"`) 사용"
   ]
  },
  {
   "cell_type": "code",
   "execution_count": 19,
   "metadata": {},
   "outputs": [],
   "source": [
    "from langchain_core.messages import AIMessage\n",
    "from langchain_ollama import ChatOllama\n",
    "\n",
    "# model = \"llama3.2:latest\"\n",
    "model = \"llama3.1:latest\"\n",
    "\n",
    "llm = ChatOllama(\n",
    "    model=model,   # 사용할 언어 모델 지정\n",
    "    temperature=0.8,    #  상상력   \n",
    "    # other params...\n",
    "    num_predict=256, # 생성할 수 있는 최대 토큰 수 \n",
    "    format=\"json\"\n",
    ")"
   ]
  },
  {
   "cell_type": "code",
   "execution_count": 20,
   "metadata": {},
   "outputs": [
    {
     "name": "stderr",
     "output_type": "stream",
     "text": [
      "c:\\Users\\Admin\\anaconda3\\envs\\tftest\\lib\\site-packages\\langsmith\\client.py:241: LangSmithMissingAPIKeyWarning: API key must be provided when using hosted LangSmith API\n",
      "  warnings.warn(\n"
     ]
    }
   ],
   "source": [
    "from langchain import hub\n",
    "\n",
    "retrieval_qa_chat_prompt = hub.pull(\"langchain-ai/retrieval-qa-chat\")\n"
   ]
  },
  {
   "cell_type": "markdown",
   "metadata": {},
   "source": [
    "### 5. 답변 생성\n",
    "\n",
    "- [RetrievalQA](https://docs.smith.langchain.com/old/cookbook/hub-examples/retrieval-qa-chain)를 통해 LLM에 전달"
   ]
  },
  {
   "cell_type": "code",
   "execution_count": 21,
   "metadata": {},
   "outputs": [],
   "source": [
    "from langchain.chains.combine_documents import create_stuff_documents_chain\n",
    "from langchain.chains import create_retrieval_chain\n",
    "\n",
    "combine_docs_chain = create_stuff_documents_chain(\n",
    "    llm, retrieval_qa_chat_prompt\n",
    ")\n",
    "retrieval_chain = create_retrieval_chain(retriever, combine_docs_chain)"
   ]
  },
  {
   "cell_type": "code",
   "execution_count": 22,
   "metadata": {},
   "outputs": [],
   "source": [
    "ai_message = retrieval_chain.invoke({\"input\": query})"
   ]
  },
  {
   "cell_type": "code",
   "execution_count": 23,
   "metadata": {},
   "outputs": [
    {
     "data": {
      "text/plain": [
       "{'input': '연봉 5천만원인 직장인의 소득세는 얼마인가요?',\n",
       " 'context': [Document(metadata={'source': './tax_doc.docx'}, page_content='제7조(장기보유 특별공제액의 계산에 관한 적용례) 제95조제5항 및 제6항의 개정규정은 2025년 1월 1일 이후 자산을 양도하는 경우부터 적용한다.\\n\\n제8조(양도소득의 필요경비 계산 특례에 관한 적용례) 제97조의2제1항의 개정규정은 이 법 시행 이후 자산을 양도하는 경우부터 적용한다.\\n\\n제9조(조세조약상 비과세ㆍ면제 또는 제한세율의 적용을 위한 경정청구기간에 관한 적용례) 제156조의2제5항 본문, 제156조의4제2항 본문 및 제156조의6제4항 본문의 개정규정은 이 법 시행 당시 각각 같은 개정규정에 따른 경정청구기간이 만료되지 아니한 경우에도 적용한다.\\n\\n제10조(외국인 통합계좌 원천징수 특례에 관한 적용례) 제156조의9의 개정규정은 이 법 시행 이후 외국인 통합계좌의 명의인에게 국내원천소득을 지급하는 경우부터 적용한다.\\n\\n제11조(국외 주식매수선택권등 거래명세서 제출에 관한 적용례) 제164조의5의 개정규정은 이 법 시행 이후 임원등이 주식매수선택권을 행사하거나 주식기준보상을 지급받는 경우부터 적용한다.\\n\\n제12조(신탁소득에 대한 소득세 과세에 관한 경과조치) 이 법 시행 전에 신탁재산에 귀속된 소득에 대해서는 제2조의3제2항의 개정규정에도 불구하고 종전의 규정에 따른다.\\n\\n제13조(분리과세 기준금액 상향에 관한 경과조치) 이 법 시행 전에 지급받은 연금소득의 분리과세 기준금액에 관하여는 제14조제3항제9호다목의 개정규정에도 불구하고 종전의 규정에 따른다.\\n\\n제14조(배당가산율 인하에 관한 경과조치) 이 법 시행 전에 지급받은 배당소득의 소득금액 계산에 관하여는 제17조제3항 각 호 외의 부분 단서의 개정규정에도 불구하고 종전의 규정에 따른다.\\n\\n제15조(주택의 보증금등에 대한 총수입금액 계산의 특례에 관한 경과조치) 이 법 시행 전에 개시한 과세기간의 총수입금액 계산에 관하여는 제25조제1항제2호의 개정규정에도 불구하고 종전의 규정에 따른다.\\n\\n제16조(장기주택저당차입금 이자 상환액의 소득공제에 관한 경과조치 등) ① 이 법 시행 전에 취득한 주택 및 주택분양권에 대한 장기주택저당차입금 이자 상환액의 소득공제 대상 주택 및 주택분양권의 범위에 관하여는 제52조제5항 각 호 외의 부분 본문 및 같은 항 제4호 본문의 개정규정에도 불구하고 종전의 규정에 따른다.\\n\\n② 이 법 시행 전에 차입한 장기주택저당차입금의 이자 상환액에 대한 소득공제 한도에 관하여는 다음 각 호의 구분에 따른다.\\n\\n1. 이 법 시행 전에 지급한 이자 상환액의 경우: 제52조제5항 각 호 외의 부분 단서 및 같은 조 제6항의 개정규정에도 불구하고 종전의 규정에 따른다.')],\n",
       " 'answer': '{\"context\": \"이 질문은 제공된 텍스트에서 주제와 관련성이 없습니다. 제공된 텍스트에는 세법과 관련된 내용만 존재하고, 연봉에 대한 정보는 없기 때문입니다.\"} \\n\\n   \\n   \\n   \\n   \\n   \\n   \\n   \\n   \\n   \\n   \\n   \\n   \\n   \\n   \\n   \\n   \\n   \\n   \\n   \\n   \\n   \\n   \\n   \\n   \\n   \\n   \\n   \\n   \\n   \\n'}"
      ]
     },
     "execution_count": 23,
     "metadata": {},
     "output_type": "execute_result"
    }
   ],
   "source": [
    "ai_message"
   ]
  }
 ],
 "metadata": {
  "kernelspec": {
   "display_name": "tftest",
   "language": "python",
   "name": "python3"
  },
  "language_info": {
   "codemirror_mode": {
    "name": "ipython",
    "version": 3
   },
   "file_extension": ".py",
   "mimetype": "text/x-python",
   "name": "python",
   "nbconvert_exporter": "python",
   "pygments_lexer": "ipython3",
   "version": "3.8.20"
  }
 },
 "nbformat": 4,
 "nbformat_minor": 2
}
