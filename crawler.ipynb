{
 "cells": [
  {
   "cell_type": "code",
   "execution_count": 65,
   "metadata": {},
   "outputs": [
    {
     "name": "stdout",
     "output_type": "stream",
     "text": [
      "<selenium.webdriver.remote.webelement.WebElement (session=\"77a6cd6a0718d9eb2b23d244da65b92b\", element=\"f.6E05F45D4A17C51EE310C3061467A716.d.F155A444CBD2046C2C8FBF4D69EDB2DF.e.59\")>\n",
      "<selenium.webdriver.remote.webelement.WebElement (session=\"77a6cd6a0718d9eb2b23d244da65b92b\", element=\"f.6E05F45D4A17C51EE310C3061467A716.d.F155A444CBD2046C2C8FBF4D69EDB2DF.e.60\")>\n"
     ]
    },
    {
     "ename": "ElementNotInteractableException",
     "evalue": "Message: element not interactable\n  (Session info: chrome=131.0.6778.109)\nStacktrace:\n\tGetHandleVerifier [0x00007FF63B276CF5+28821]\n\t(No symbol) [0x00007FF63B1E3880]\n\t(No symbol) [0x00007FF63B0855B9]\n\t(No symbol) [0x00007FF63B0D2D14]\n\t(No symbol) [0x00007FF63B0D0DAD]\n\t(No symbol) [0x00007FF63B0FF2FA]\n\t(No symbol) [0x00007FF63B0CC3F6]\n\t(No symbol) [0x00007FF63B0FF510]\n\t(No symbol) [0x00007FF63B11F412]\n\t(No symbol) [0x00007FF63B0FF0A3]\n\t(No symbol) [0x00007FF63B0CA778]\n\t(No symbol) [0x00007FF63B0CB8E1]\n\tGetHandleVerifier [0x00007FF63B5AFCED+3408013]\n\tGetHandleVerifier [0x00007FF63B5C745F+3504127]\n\tGetHandleVerifier [0x00007FF63B5BB63D+3455453]\n\tGetHandleVerifier [0x00007FF63B33BDFB+835995]\n\t(No symbol) [0x00007FF63B1EEB9F]\n\t(No symbol) [0x00007FF63B1EA854]\n\t(No symbol) [0x00007FF63B1EA9ED]\n\t(No symbol) [0x00007FF63B1DA1D9]\n\tBaseThreadInitThunk [0x00007FFD7EC67374+20]\n\tRtlUserThreadStart [0x00007FFD7EF3CC91+33]\n",
     "output_type": "error",
     "traceback": [
      "\u001b[1;31m---------------------------------------------------------------------------\u001b[0m",
      "\u001b[1;31mElementNotInteractableException\u001b[0m           Traceback (most recent call last)",
      "Cell \u001b[1;32mIn[65], line 22\u001b[0m\n\u001b[0;32m     20\u001b[0m \u001b[38;5;28;01mfor\u001b[39;00m house \u001b[38;5;129;01min\u001b[39;00m houses:\n\u001b[0;32m     21\u001b[0m   \u001b[38;5;28mprint\u001b[39m(house)\n\u001b[1;32m---> 22\u001b[0m   house_link \u001b[38;5;241m=\u001b[39m \u001b[43mhouse\u001b[49m\u001b[38;5;241;43m.\u001b[39;49m\u001b[43mfind_element\u001b[49m\u001b[43m(\u001b[49m\u001b[43mBy\u001b[49m\u001b[38;5;241;43m.\u001b[39;49m\u001b[43mCSS_SELECTOR\u001b[49m\u001b[43m,\u001b[49m\u001b[43m \u001b[49m\u001b[38;5;124;43m'\u001b[39;49m\u001b[38;5;124;43ma\u001b[39;49m\u001b[38;5;124;43m'\u001b[39;49m\u001b[43m)\u001b[49m\u001b[38;5;241;43m.\u001b[39;49m\u001b[43msend_keys\u001b[49m\u001b[43m(\u001b[49m\u001b[43mKeys\u001b[49m\u001b[38;5;241;43m.\u001b[39;49m\u001b[43mENTER\u001b[49m\u001b[43m)\u001b[49m\n\u001b[0;32m     23\u001b[0m   time\u001b[38;5;241m.\u001b[39msleep(\u001b[38;5;241m2\u001b[39m)\n\u001b[0;32m     24\u001b[0m   driver\u001b[38;5;241m.\u001b[39mswitch_to\u001b[38;5;241m.\u001b[39mframe(driver\u001b[38;5;241m.\u001b[39mfind_element(By\u001b[38;5;241m.\u001b[39mID, \u001b[38;5;124m\"\u001b[39m\u001b[38;5;124miframeDialog\u001b[39m\u001b[38;5;124m\"\u001b[39m))\n",
      "File \u001b[1;32mc:\\Users\\Admin\\.pyenv\\pyenv-win\\versions\\3.11.9\\Lib\\site-packages\\selenium\\webdriver\\remote\\webelement.py:231\u001b[0m, in \u001b[0;36mWebElement.send_keys\u001b[1;34m(self, *value)\u001b[0m\n\u001b[0;32m    228\u001b[0m             remote_files\u001b[38;5;241m.\u001b[39mappend(\u001b[38;5;28mself\u001b[39m\u001b[38;5;241m.\u001b[39m_upload(file))\n\u001b[0;32m    229\u001b[0m         value \u001b[38;5;241m=\u001b[39m \u001b[38;5;28mtuple\u001b[39m(\u001b[38;5;124m\"\u001b[39m\u001b[38;5;130;01m\\n\u001b[39;00m\u001b[38;5;124m\"\u001b[39m\u001b[38;5;241m.\u001b[39mjoin(remote_files))\n\u001b[1;32m--> 231\u001b[0m \u001b[38;5;28;43mself\u001b[39;49m\u001b[38;5;241;43m.\u001b[39;49m\u001b[43m_execute\u001b[49m\u001b[43m(\u001b[49m\n\u001b[0;32m    232\u001b[0m \u001b[43m    \u001b[49m\u001b[43mCommand\u001b[49m\u001b[38;5;241;43m.\u001b[39;49m\u001b[43mSEND_KEYS_TO_ELEMENT\u001b[49m\u001b[43m,\u001b[49m\u001b[43m \u001b[49m\u001b[43m{\u001b[49m\u001b[38;5;124;43m\"\u001b[39;49m\u001b[38;5;124;43mtext\u001b[39;49m\u001b[38;5;124;43m\"\u001b[39;49m\u001b[43m:\u001b[49m\u001b[43m \u001b[49m\u001b[38;5;124;43m\"\u001b[39;49m\u001b[38;5;124;43m\"\u001b[39;49m\u001b[38;5;241;43m.\u001b[39;49m\u001b[43mjoin\u001b[49m\u001b[43m(\u001b[49m\u001b[43mkeys_to_typing\u001b[49m\u001b[43m(\u001b[49m\u001b[43mvalue\u001b[49m\u001b[43m)\u001b[49m\u001b[43m)\u001b[49m\u001b[43m,\u001b[49m\u001b[43m \u001b[49m\u001b[38;5;124;43m\"\u001b[39;49m\u001b[38;5;124;43mvalue\u001b[39;49m\u001b[38;5;124;43m\"\u001b[39;49m\u001b[43m:\u001b[49m\u001b[43m \u001b[49m\u001b[43mkeys_to_typing\u001b[49m\u001b[43m(\u001b[49m\u001b[43mvalue\u001b[49m\u001b[43m)\u001b[49m\u001b[43m}\u001b[49m\n\u001b[0;32m    233\u001b[0m \u001b[43m\u001b[49m\u001b[43m)\u001b[49m\n",
      "File \u001b[1;32mc:\\Users\\Admin\\.pyenv\\pyenv-win\\versions\\3.11.9\\Lib\\site-packages\\selenium\\webdriver\\remote\\webelement.py:395\u001b[0m, in \u001b[0;36mWebElement._execute\u001b[1;34m(self, command, params)\u001b[0m\n\u001b[0;32m    393\u001b[0m     params \u001b[38;5;241m=\u001b[39m {}\n\u001b[0;32m    394\u001b[0m params[\u001b[38;5;124m\"\u001b[39m\u001b[38;5;124mid\u001b[39m\u001b[38;5;124m\"\u001b[39m] \u001b[38;5;241m=\u001b[39m \u001b[38;5;28mself\u001b[39m\u001b[38;5;241m.\u001b[39m_id\n\u001b[1;32m--> 395\u001b[0m \u001b[38;5;28;01mreturn\u001b[39;00m \u001b[38;5;28;43mself\u001b[39;49m\u001b[38;5;241;43m.\u001b[39;49m\u001b[43m_parent\u001b[49m\u001b[38;5;241;43m.\u001b[39;49m\u001b[43mexecute\u001b[49m\u001b[43m(\u001b[49m\u001b[43mcommand\u001b[49m\u001b[43m,\u001b[49m\u001b[43m \u001b[49m\u001b[43mparams\u001b[49m\u001b[43m)\u001b[49m\n",
      "File \u001b[1;32mc:\\Users\\Admin\\.pyenv\\pyenv-win\\versions\\3.11.9\\Lib\\site-packages\\selenium\\webdriver\\remote\\webdriver.py:384\u001b[0m, in \u001b[0;36mWebDriver.execute\u001b[1;34m(self, driver_command, params)\u001b[0m\n\u001b[0;32m    382\u001b[0m response \u001b[38;5;241m=\u001b[39m \u001b[38;5;28mself\u001b[39m\u001b[38;5;241m.\u001b[39mcommand_executor\u001b[38;5;241m.\u001b[39mexecute(driver_command, params)\n\u001b[0;32m    383\u001b[0m \u001b[38;5;28;01mif\u001b[39;00m response:\n\u001b[1;32m--> 384\u001b[0m     \u001b[38;5;28;43mself\u001b[39;49m\u001b[38;5;241;43m.\u001b[39;49m\u001b[43merror_handler\u001b[49m\u001b[38;5;241;43m.\u001b[39;49m\u001b[43mcheck_response\u001b[49m\u001b[43m(\u001b[49m\u001b[43mresponse\u001b[49m\u001b[43m)\u001b[49m\n\u001b[0;32m    385\u001b[0m     response[\u001b[38;5;124m\"\u001b[39m\u001b[38;5;124mvalue\u001b[39m\u001b[38;5;124m\"\u001b[39m] \u001b[38;5;241m=\u001b[39m \u001b[38;5;28mself\u001b[39m\u001b[38;5;241m.\u001b[39m_unwrap_value(response\u001b[38;5;241m.\u001b[39mget(\u001b[38;5;124m\"\u001b[39m\u001b[38;5;124mvalue\u001b[39m\u001b[38;5;124m\"\u001b[39m, \u001b[38;5;28;01mNone\u001b[39;00m))\n\u001b[0;32m    386\u001b[0m     \u001b[38;5;28;01mreturn\u001b[39;00m response\n",
      "File \u001b[1;32mc:\\Users\\Admin\\.pyenv\\pyenv-win\\versions\\3.11.9\\Lib\\site-packages\\selenium\\webdriver\\remote\\errorhandler.py:232\u001b[0m, in \u001b[0;36mErrorHandler.check_response\u001b[1;34m(self, response)\u001b[0m\n\u001b[0;32m    230\u001b[0m         alert_text \u001b[38;5;241m=\u001b[39m value[\u001b[38;5;124m\"\u001b[39m\u001b[38;5;124malert\u001b[39m\u001b[38;5;124m\"\u001b[39m]\u001b[38;5;241m.\u001b[39mget(\u001b[38;5;124m\"\u001b[39m\u001b[38;5;124mtext\u001b[39m\u001b[38;5;124m\"\u001b[39m)\n\u001b[0;32m    231\u001b[0m     \u001b[38;5;28;01mraise\u001b[39;00m exception_class(message, screen, stacktrace, alert_text)  \u001b[38;5;66;03m# type: ignore[call-arg]  # mypy is not smart enough here\u001b[39;00m\n\u001b[1;32m--> 232\u001b[0m \u001b[38;5;28;01mraise\u001b[39;00m exception_class(message, screen, stacktrace)\n",
      "\u001b[1;31mElementNotInteractableException\u001b[0m: Message: element not interactable\n  (Session info: chrome=131.0.6778.109)\nStacktrace:\n\tGetHandleVerifier [0x00007FF63B276CF5+28821]\n\t(No symbol) [0x00007FF63B1E3880]\n\t(No symbol) [0x00007FF63B0855B9]\n\t(No symbol) [0x00007FF63B0D2D14]\n\t(No symbol) [0x00007FF63B0D0DAD]\n\t(No symbol) [0x00007FF63B0FF2FA]\n\t(No symbol) [0x00007FF63B0CC3F6]\n\t(No symbol) [0x00007FF63B0FF510]\n\t(No symbol) [0x00007FF63B11F412]\n\t(No symbol) [0x00007FF63B0FF0A3]\n\t(No symbol) [0x00007FF63B0CA778]\n\t(No symbol) [0x00007FF63B0CB8E1]\n\tGetHandleVerifier [0x00007FF63B5AFCED+3408013]\n\tGetHandleVerifier [0x00007FF63B5C745F+3504127]\n\tGetHandleVerifier [0x00007FF63B5BB63D+3455453]\n\tGetHandleVerifier [0x00007FF63B33BDFB+835995]\n\t(No symbol) [0x00007FF63B1EEB9F]\n\t(No symbol) [0x00007FF63B1EA854]\n\t(No symbol) [0x00007FF63B1EA9ED]\n\t(No symbol) [0x00007FF63B1DA1D9]\n\tBaseThreadInitThunk [0x00007FFD7EC67374+20]\n\tRtlUserThreadStart [0x00007FFD7EF3CC91+33]\n"
     ]
    }
   ],
   "source": [
    "from selenium import webdriver\n",
    "from selenium.webdriver.common.keys import Keys\n",
    "from selenium.webdriver.support.ui import WebDriverWait\n",
    "from selenium.webdriver.common.by import By\n",
    "from selenium.webdriver.support import expected_conditions as EC\n",
    "import time\n",
    "from bs4 import BeautifulSoup\n",
    "import requests\n",
    "\n",
    "driver = webdriver.Chrome()\n",
    "\n",
    "# 청약홈으로 이동\n",
    "# url = \"https://www.applyhome.co.kr/ai/aib/selectSubscrptCalenderView.do#a\"\n",
    "url = \"https://www.applyhome.co.kr/ai/aia/selectAPTLttotPblancListView.do\"\n",
    "driver.get(url)\n",
    "houses = driver.find_elements(By.CSS_SELECTOR, 'div.mt_10 > table > tbody > tr')\n",
    "\n",
    "pdf_list =[]\n",
    "\n",
    "for house in houses:\n",
    "  print(house)\n",
    "  house_link = house.find_element(By.CSS_SELECTOR, 'a').send_keys(Keys.ENTER)\n",
    "  time.sleep(2)\n",
    "  driver.switch_to.frame(driver.find_element(By.ID, \"iframeDialog\"))\n",
    "\n",
    "  # WebDriverWait(driver, 10)\n",
    "  time.sleep(2)\n",
    "  pdf_element = driver.find_element(By.XPATH, '//a[contains(text(), \"모집공고문 보기\")]')\n",
    "  pdf_link = pdf_element.get_attribute('href')\n",
    "  # pdf_element.click()\n",
    "  pdf_list.append(pdf_link)\n",
    "  driver.switch_to.default_content()\n",
    "\n",
    "\n"
   ]
  },
  {
   "cell_type": "code",
   "execution_count": 41,
   "metadata": {},
   "outputs": [
    {
     "data": {
      "text/plain": [
       "<selenium.webdriver.remote.webelement.WebElement (session=\"dac9b61eb8de66c6d7da509ceb8069d0\", element=\"f.51AE54A35E681433496C83C0F7BD156D.d.13F3B7C0519DF0041E4304F12F985380.e.795\")>"
      ]
     },
     "execution_count": 41,
     "metadata": {},
     "output_type": "execute_result"
    }
   ],
   "source": [
    "houses = driver.find_elements(By.CSS_SELECTOR, 'div.mt_10 > table > tbody > tr')\n",
    "house_link = houses.find_elements(By.CSS_SELECTOR, 'a').send_keys(Keys.ENTER)"
   ]
  },
  {
   "cell_type": "code",
   "execution_count": 38,
   "metadata": {},
   "outputs": [
    {
     "name": "stdout",
     "output_type": "stream",
     "text": [
      "\n",
      "\n",
      "\n",
      "\n",
      "\n",
      "\n",
      "\n",
      "\n",
      "\n",
      "\n",
      "\n",
      "\n",
      "\n",
      "\n",
      "\n",
      "\n",
      "\n",
      "<!DOCTYPE html>\n",
      "<html lang=\"ko\" style=\"height:100%;\">\n",
      "\t<head>\n",
      "\t\t<meta http-equiv=\"Content-Type\" content=\"text/html;charset=UTF-8\"/>\n",
      "\t\t<meta http-equiv=\"X-UA-Compatible\" content=\"IE=edge\"/>\n",
      "\t\t<meta name=\"viewport\" content=\"width=device-width, user-scalable=yes, initial-scale=1, maximum-scale=1\"/>\n",
      "\t\t<meta name=\"format-detection\" content=\"telephone=no\"/>\n",
      "\t\t<link rel=\"icon\" type=\"image/ico\" href=\"/images/favicon.ico\"/>\n",
      "\n",
      "\t\t<link rel=\"stylesheet\" type=\"text/css\" href=\"/css/kabhom/main/hom.css\"/>\n",
      "\n",
      "\t\t<title>한국부동산원 주택청약</title>\n",
      "\t\t\n",
      "\t\t<script src=\"/js/kabhom/plugin/jquery.3.1.1.min.js\"></script>\n",
      "\t\t<script src=\"/js/kabhom/plugin/jquery-ui.min.js\"></script>\n",
      "\t\t<!-- 팝업창에서 KabApplicationException 이 발생해서 이 화면이 표시되면 아래 스크립트는 cross-domain 오류 발생되어 삭제함. -->\n",
      "\t\t<!--  <script src=\"/js/kabhom/util/hom.all.js\"></script>-->\n",
      "\t\t<script>\n",
      "\t\t\tdocument.domain = \"applyhome.co.kr\";\n",
      "\t\t\tvar isInIFrame = false;\n",
      "\t\t\t$(function() {\n",
      "\t\t\t\tisInIFrame = (window.location != window.parent.location);\n",
      "\t\t\t\tif(isInIFrame) {\n",
      "\t\t\t\t\t$(\"#btnSubmit\").text(\"닫기\");\n",
      "\t\t\t\t}\n",
      "\t\t\t});\n",
      "\t\t\t\n",
      "\t\t\tfunction fn_btnSubmitClick() {\n",
      "\t\t\t\tif(isInIFrame) {\n",
      "\t\t\t\t\t// 팝업창일때는 hom.all.js 의 기능을 사용 못하고 각 화면에 아래 함수 추가하고 사용하도록 함.\n",
      "\t\t\t\t\t//$pop.closeDialog(); \n",
      "\t\t\t\t\twindow.parent.fn_closeKabExceptionDialog();\n",
      "\t\t\t\t} else {\n",
      "\t\t\t\t\tlocation.href='/co/coa/selectMainView.do';\n",
      "\t\t\t\t}\n",
      "\t\t\t}\n",
      "\n",
      "\t\t</script>\n",
      "\t</head>\n",
      "<body>\n",
      "\t<div class=\"error_pg_wrap\">\n",
      "\t\t<div class=\"error_pg_box\">\n",
      "\t\t\t<div class=\"er_pg_content\">\n",
      "\t\t\t\t<img src=\"/images/kabhom/sub/ic_error_lg.png\" alt=\"에러페이지 아이콘\"/>\n",
      "\t\t\t\t<h5>죄송합니다.</h5>\n",
      "\t\t\t\t\n",
      "\t\t\t\t\t\n",
      "\t\t\t\t\t\n",
      "\t\t\t\t\t\t해당 데이터가 없습니다.[주택관리번호:null]\n",
      "\t\t\t\t\t\n",
      "\t\t\t\t\n",
      "\t\t\t</div>\n",
      "\t\t\t<div class=\"btn_box\">\n",
      "\t\n",
      "\t\n",
      "\t\n",
      "\t\t\n",
      "\t\t\n",
      "\t\t\n",
      "\t\t\n",
      "\t\t\t\t<button type=\"button\" id=\"btnSubmit\" class=\"btn_submit\" onclick=\"fn_btnSubmitClick()\">홈으로 이동</button>\n",
      "\t\t\n",
      "\t\n",
      "\t\n",
      "\t\n",
      "\t\t\t</div>\n",
      "\t\t</div>\n",
      "\t</div>\n",
      "</body>\n",
      "</html>\n",
      "None\n"
     ]
    }
   ],
   "source": [
    "import requests\n",
    "from bs4 import BeautifulSoup\n",
    "\n",
    "\n",
    "# formData = {\n",
    "#     'beginPd':\t\"202402\",   # 검색시작 연월\n",
    "#     'endPd':\t\"202501\",   # 검색종료 연월\n",
    "#     'houseDetailSecd':\t\"\", # 주택구분 드롭다운\n",
    "#     'suplyAreaCode':\t\"\", # 공급지역 드롭다운\n",
    "#     'houseNm':\t\"\",         # 주택명(건설업체명) 검색창 입력내용\n",
    "#     'chk0':\t\"\",             # 분양/임대 체크박스, 순서대로 chk: \"\", chk1: \"0\", chk2: \"1\", chk3: \"2\"로 전달된다\n",
    "#                             # 분양주택, 분양전환 가능임대만 체크할 경우 chk1: \"0\", chk2: \"1\"에 추가로 rentSecd: \"0,1\"까지 전송된다.\n",
    "#     'pageIndex':\t\"1\",    # 페이지 번호\n",
    "# }\n",
    "\n",
    "\n",
    "formData = {\n",
    "  \"houseMAnageNo\" : 2024000635,\n",
    "  \"pblancNo\" : 2024000635,\n",
    "  \"gvPgmId\" : \"AIA01M01\"\n",
    "}\n",
    "\n",
    "userAgent = 'Mozilla/5.0 (Windows NT 10.0; Win64; x64) AppleWebKit/537.36 (KHTML, like Gecko) Chrome/131.0.0.0 Safari/537.36'\n",
    "url = 'https://www.applyhome.co.kr/ai/aia/selectAPTLttotPblancDetail.do'\n",
    "\n",
    "postHeaders = {\n",
    "               'User-Agent': userAgent\n",
    "              }\n",
    "\n",
    "data = requests.post(url, formData, headers=postHeaders) \n",
    "bs = BeautifulSoup(data.text, 'html.parser')\n",
    "print(data.text)\n",
    "\n",
    "dl = bs.find('dl', class_= 'pop_btn_txt')\n",
    "print(dl)\n",
    "# dd = bs.find('dd')\n",
    "# print(dd)\n",
    "# pdf_link = bs.find('a', class_='radius_btn').get('href')\n",
    "# print(pdf_link)\n"
   ]
  },
  {
   "cell_type": "code",
   "execution_count": 22,
   "metadata": {},
   "outputs": [
    {
     "data": {
      "text/plain": [
       "'2024000698'"
      ]
     },
     "execution_count": 22,
     "metadata": {},
     "output_type": "execute_result"
    }
   ],
   "source": [
    "url = 'https://www.applyhome.co.kr/ai/aia/selectAPTLttotPblancListView.do'\n",
    "userAgent = 'Mozilla/5.0 (Windows NT 10.0; Win64; x64) AppleWebKit/537.36 (KHTML, like Gecko) Chrome/131.0.0.0 Safari/537.36'\n",
    "Headers = {\n",
    "               'User-Agent': userAgent\n",
    "              }\n",
    "\n",
    "page = requests.get(url, headers=Headers)\n",
    "\n",
    "bs = BeautifulSoup(page.text, 'html.parser')\n",
    "table = bs.find('table', class_='tbl_st')\n",
    "tbody = table.find('tbody')\n",
    "trs = tbody.find_all('tr')\n",
    "home_num = trs[0].get('data-hmno')"
   ]
  },
  {
   "cell_type": "code",
   "execution_count": null,
   "metadata": {},
   "outputs": [],
   "source": [
    "userAgent = 'Chrome/55.0.2883.91 Mobile Safari/537.36'\n",
    "url = 'https://www.applyhome.co.kr/ai/aia/selectAPTLttotPblancListView.do'\n",
    "postHeaders = {\n",
    "               'User-Agent': userAgent\n",
    "              }\n",
    "\n",
    "data = requests.post(url, formData, headers=postHeaders) # formData는 위의 저것\n",
    "bs = BeautifulSoup(data.text, 'html.parser')\n",
    "\n",
    "table = bs.find('table', class_='tbl_st')\n",
    "\n",
    "# 그중 tbody 태그 선택\n",
    "tbody = table.tbody\n",
    "\n",
    "# tbody에서 하위 tr 태그를 모두 검색\n",
    "trs = tbody.find_all('tr')"
   ]
  },
  {
   "cell_type": "code",
   "execution_count": null,
   "metadata": {},
   "outputs": [
    {
     "ename": "NoSuchElementException",
     "evalue": "Message: no such element: Unable to locate element: {\"method\":\"xpath\",\"selector\":\"/html/body/div[1]/dl/dd/a\"}\n  (Session info: chrome=131.0.6778.109); For documentation on this error, please visit: https://www.selenium.dev/documentation/webdriver/troubleshooting/errors#no-such-element-exception\nStacktrace:\n\tGetHandleVerifier [0x00007FF7C45D6CF5+28821]\n\t(No symbol) [0x00007FF7C4543880]\n\t(No symbol) [0x00007FF7C43E578A]\n\t(No symbol) [0x00007FF7C44391BE]\n\t(No symbol) [0x00007FF7C44394AC]\n\t(No symbol) [0x00007FF7C4482647]\n\t(No symbol) [0x00007FF7C445F33F]\n\t(No symbol) [0x00007FF7C447F412]\n\t(No symbol) [0x00007FF7C445F0A3]\n\t(No symbol) [0x00007FF7C442A778]\n\t(No symbol) [0x00007FF7C442B8E1]\n\tGetHandleVerifier [0x00007FF7C490FCED+3408013]\n\tGetHandleVerifier [0x00007FF7C492745F+3504127]\n\tGetHandleVerifier [0x00007FF7C491B63D+3455453]\n\tGetHandleVerifier [0x00007FF7C469BDFB+835995]\n\t(No symbol) [0x00007FF7C454EB9F]\n\t(No symbol) [0x00007FF7C454A854]\n\t(No symbol) [0x00007FF7C454A9ED]\n\t(No symbol) [0x00007FF7C453A1D9]\n\tBaseThreadInitThunk [0x00007FFD7EC67374+20]\n\tRtlUserThreadStart [0x00007FFD7EF3CC91+33]\n",
     "output_type": "error",
     "traceback": [
      "\u001b[1;31m---------------------------------------------------------------------------\u001b[0m",
      "\u001b[1;31mNoSuchElementException\u001b[0m                    Traceback (most recent call last)",
      "Cell \u001b[1;32mIn[3], line 2\u001b[0m\n\u001b[0;32m      1\u001b[0m xpath_pdf \u001b[38;5;241m=\u001b[39m \u001b[38;5;124m'\u001b[39m\u001b[38;5;124m/html/body/div[1]/dl/dd/a\u001b[39m\u001b[38;5;124m'\u001b[39m\n\u001b[1;32m----> 2\u001b[0m \u001b[43mdriver\u001b[49m\u001b[38;5;241;43m.\u001b[39;49m\u001b[43mfind_element\u001b[49m\u001b[43m(\u001b[49m\u001b[43mBy\u001b[49m\u001b[38;5;241;43m.\u001b[39;49m\u001b[43mXPATH\u001b[49m\u001b[43m,\u001b[49m\u001b[43m \u001b[49m\u001b[43mxpath_pdf\u001b[49m\u001b[43m)\u001b[49m\u001b[38;5;241m.\u001b[39mget_attribute(\u001b[38;5;124m'\u001b[39m\u001b[38;5;124mhref\u001b[39m\u001b[38;5;124m'\u001b[39m)\n",
      "File \u001b[1;32mc:\\Users\\Admin\\.pyenv\\pyenv-win\\versions\\3.11.9\\Lib\\site-packages\\selenium\\webdriver\\remote\\webdriver.py:770\u001b[0m, in \u001b[0;36mWebDriver.find_element\u001b[1;34m(self, by, value)\u001b[0m\n\u001b[0;32m    767\u001b[0m         \u001b[38;5;28;01mraise\u001b[39;00m NoSuchElementException(\u001b[38;5;124mf\u001b[39m\u001b[38;5;124m\"\u001b[39m\u001b[38;5;124mCannot locate relative element with: \u001b[39m\u001b[38;5;132;01m{\u001b[39;00mby\u001b[38;5;241m.\u001b[39mroot\u001b[38;5;132;01m}\u001b[39;00m\u001b[38;5;124m\"\u001b[39m)\n\u001b[0;32m    768\u001b[0m     \u001b[38;5;28;01mreturn\u001b[39;00m elements[\u001b[38;5;241m0\u001b[39m]\n\u001b[1;32m--> 770\u001b[0m \u001b[38;5;28;01mreturn\u001b[39;00m \u001b[38;5;28;43mself\u001b[39;49m\u001b[38;5;241;43m.\u001b[39;49m\u001b[43mexecute\u001b[49m\u001b[43m(\u001b[49m\u001b[43mCommand\u001b[49m\u001b[38;5;241;43m.\u001b[39;49m\u001b[43mFIND_ELEMENT\u001b[49m\u001b[43m,\u001b[49m\u001b[43m \u001b[49m\u001b[43m{\u001b[49m\u001b[38;5;124;43m\"\u001b[39;49m\u001b[38;5;124;43musing\u001b[39;49m\u001b[38;5;124;43m\"\u001b[39;49m\u001b[43m:\u001b[49m\u001b[43m \u001b[49m\u001b[43mby\u001b[49m\u001b[43m,\u001b[49m\u001b[43m \u001b[49m\u001b[38;5;124;43m\"\u001b[39;49m\u001b[38;5;124;43mvalue\u001b[39;49m\u001b[38;5;124;43m\"\u001b[39;49m\u001b[43m:\u001b[49m\u001b[43m \u001b[49m\u001b[43mvalue\u001b[49m\u001b[43m}\u001b[49m\u001b[43m)\u001b[49m[\u001b[38;5;124m\"\u001b[39m\u001b[38;5;124mvalue\u001b[39m\u001b[38;5;124m\"\u001b[39m]\n",
      "File \u001b[1;32mc:\\Users\\Admin\\.pyenv\\pyenv-win\\versions\\3.11.9\\Lib\\site-packages\\selenium\\webdriver\\remote\\webdriver.py:384\u001b[0m, in \u001b[0;36mWebDriver.execute\u001b[1;34m(self, driver_command, params)\u001b[0m\n\u001b[0;32m    382\u001b[0m response \u001b[38;5;241m=\u001b[39m \u001b[38;5;28mself\u001b[39m\u001b[38;5;241m.\u001b[39mcommand_executor\u001b[38;5;241m.\u001b[39mexecute(driver_command, params)\n\u001b[0;32m    383\u001b[0m \u001b[38;5;28;01mif\u001b[39;00m response:\n\u001b[1;32m--> 384\u001b[0m     \u001b[38;5;28;43mself\u001b[39;49m\u001b[38;5;241;43m.\u001b[39;49m\u001b[43merror_handler\u001b[49m\u001b[38;5;241;43m.\u001b[39;49m\u001b[43mcheck_response\u001b[49m\u001b[43m(\u001b[49m\u001b[43mresponse\u001b[49m\u001b[43m)\u001b[49m\n\u001b[0;32m    385\u001b[0m     response[\u001b[38;5;124m\"\u001b[39m\u001b[38;5;124mvalue\u001b[39m\u001b[38;5;124m\"\u001b[39m] \u001b[38;5;241m=\u001b[39m \u001b[38;5;28mself\u001b[39m\u001b[38;5;241m.\u001b[39m_unwrap_value(response\u001b[38;5;241m.\u001b[39mget(\u001b[38;5;124m\"\u001b[39m\u001b[38;5;124mvalue\u001b[39m\u001b[38;5;124m\"\u001b[39m, \u001b[38;5;28;01mNone\u001b[39;00m))\n\u001b[0;32m    386\u001b[0m     \u001b[38;5;28;01mreturn\u001b[39;00m response\n",
      "File \u001b[1;32mc:\\Users\\Admin\\.pyenv\\pyenv-win\\versions\\3.11.9\\Lib\\site-packages\\selenium\\webdriver\\remote\\errorhandler.py:232\u001b[0m, in \u001b[0;36mErrorHandler.check_response\u001b[1;34m(self, response)\u001b[0m\n\u001b[0;32m    230\u001b[0m         alert_text \u001b[38;5;241m=\u001b[39m value[\u001b[38;5;124m\"\u001b[39m\u001b[38;5;124malert\u001b[39m\u001b[38;5;124m\"\u001b[39m]\u001b[38;5;241m.\u001b[39mget(\u001b[38;5;124m\"\u001b[39m\u001b[38;5;124mtext\u001b[39m\u001b[38;5;124m\"\u001b[39m)\n\u001b[0;32m    231\u001b[0m     \u001b[38;5;28;01mraise\u001b[39;00m exception_class(message, screen, stacktrace, alert_text)  \u001b[38;5;66;03m# type: ignore[call-arg]  # mypy is not smart enough here\u001b[39;00m\n\u001b[1;32m--> 232\u001b[0m \u001b[38;5;28;01mraise\u001b[39;00m exception_class(message, screen, stacktrace)\n",
      "\u001b[1;31mNoSuchElementException\u001b[0m: Message: no such element: Unable to locate element: {\"method\":\"xpath\",\"selector\":\"/html/body/div[1]/dl/dd/a\"}\n  (Session info: chrome=131.0.6778.109); For documentation on this error, please visit: https://www.selenium.dev/documentation/webdriver/troubleshooting/errors#no-such-element-exception\nStacktrace:\n\tGetHandleVerifier [0x00007FF7C45D6CF5+28821]\n\t(No symbol) [0x00007FF7C4543880]\n\t(No symbol) [0x00007FF7C43E578A]\n\t(No symbol) [0x00007FF7C44391BE]\n\t(No symbol) [0x00007FF7C44394AC]\n\t(No symbol) [0x00007FF7C4482647]\n\t(No symbol) [0x00007FF7C445F33F]\n\t(No symbol) [0x00007FF7C447F412]\n\t(No symbol) [0x00007FF7C445F0A3]\n\t(No symbol) [0x00007FF7C442A778]\n\t(No symbol) [0x00007FF7C442B8E1]\n\tGetHandleVerifier [0x00007FF7C490FCED+3408013]\n\tGetHandleVerifier [0x00007FF7C492745F+3504127]\n\tGetHandleVerifier [0x00007FF7C491B63D+3455453]\n\tGetHandleVerifier [0x00007FF7C469BDFB+835995]\n\t(No symbol) [0x00007FF7C454EB9F]\n\t(No symbol) [0x00007FF7C454A854]\n\t(No symbol) [0x00007FF7C454A9ED]\n\t(No symbol) [0x00007FF7C453A1D9]\n\tBaseThreadInitThunk [0x00007FFD7EC67374+20]\n\tRtlUserThreadStart [0x00007FFD7EF3CC91+33]\n"
     ]
    }
   ],
   "source": [
    "xpath_pdf = '/html/body/div[1]/dl/dd/a'\n",
    "\n",
    "driver.find_element(By.XPATH, xpath_pdf).get_attribute('href')"
   ]
  },
  {
   "cell_type": "code",
   "execution_count": null,
   "metadata": {},
   "outputs": [],
   "source": []
  },
  {
   "cell_type": "code",
   "execution_count": null,
   "metadata": {},
   "outputs": [],
   "source": []
  }
 ],
 "metadata": {
  "kernelspec": {
   "display_name": "Python 3",
   "language": "python",
   "name": "python3"
  },
  "language_info": {
   "codemirror_mode": {
    "name": "ipython",
    "version": 3
   },
   "file_extension": ".py",
   "mimetype": "text/x-python",
   "name": "python",
   "nbconvert_exporter": "python",
   "pygments_lexer": "ipython3",
   "version": "3.11.9"
  }
 },
 "nbformat": 4,
 "nbformat_minor": 2
}
