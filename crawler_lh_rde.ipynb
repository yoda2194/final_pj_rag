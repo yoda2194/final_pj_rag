{
 "cells": [
  {
   "cell_type": "code",
   "execution_count": null,
   "metadata": {},
   "outputs": [],
   "source": [
    "from selenium import webdriver\n",
    "from selenium.webdriver.common.keys import Keys\n",
    "from selenium.webdriver.support.ui import WebDriverWait\n",
    "from selenium.webdriver.common.by import By\n",
    "from selenium.webdriver.support import expected_conditions as EC\n",
    "import time\n",
    "from bs4 import BeautifulSoup\n",
    "import requests\n",
    "\n",
    "driver = webdriver.Chrome()\n",
    "url = \"https://apply.lh.or.kr/lhapply/apply/wt/wrtanc/selectWrtancList.do?mi=1027\"\n",
    "driver.get(url)\n",
    "\n",
    "houses = driver.find_elements(By.CSS_SELECTOR, \"table > tbody > tr\")\n",
    "for house in houses:\n",
    "  house_link = houses[0].find_element(By.CSS_SELECTOR, \"td.mVw.bbs_tit > a\")\n",
    "  house_link.click()\n",
    "  time.sleep(8)\n",
    "  pdf_load = driver.find_element(By.CSS_SELECTOR, 'div.bbsV_atchmnfl > dl.col_red > dd > ul > li')\n",
    "  pdf_load.find_element(By.XPATH, \"//a[contains(text(), '.pdf')]\").click()\n",
    "\n",
    "  driver.find_element(By.CSS_SELECTOR, \"div.mobHeader > a\").click()\n"
   ]
  },
  {
   "cell_type": "code",
   "execution_count": null,
   "metadata": {},
   "outputs": [
    {
     "ename": "",
     "evalue": "",
     "output_type": "error",
     "traceback": [
      "\u001b[1;31mFailed to start the Kernel 'Python 3.11.9'. \n",
      "\u001b[1;31mView Jupyter <a href='command:jupyter.viewOutput'>log</a> for further details. listen EFAULT: bad address in system call argument 127.0.0.1:9002"
     ]
    }
   ],
   "source": [
    "import requests\n",
    "from bs4 import BeautifulSoup\n",
    "url = \"https://apply.lh.or.kr/lhapply/apply/wt/wrtanc/selectWrtancList.do\"\n",
    "driver = webdriver.Chrome()\n",
    "\n",
    "url_open = \"https://apply.lh.or.kr/lhapply/apply/wt/wrtanc/selectWrtancList.do\"\n",
    "driver.get(url_open)\n",
    "\n",
    "formData = {\n",
    "  \"panId\": \"\",\n",
    "  \"ccrCnntSysDsCd\": \"\",\n",
    "  \"srchUppAisTpCd\": '0539',\n",
    "  \"uppAisTpCd\": '0539',\n",
    "  \"aisTpCd\": \"\",\n",
    "  \"srchAisTpCd\": \"\",\n",
    "  'prevListCo': \"\",\n",
    "  'mi': \"1027\",\n",
    "  'currPage': \"1\",\n",
    "  'srchY': \"Y\",\n",
    "  'indVal': \"N\",\n",
    "  'viewType': \"\",\n",
    "  'srchFilter': \"N\",\n",
    "  'mvinQf': \"0\",\n",
    "  'cnpCd': \"\",\n",
    "  'panSs': \"\",\n",
    "  'schTy': \"0\",\n",
    "  'startDt': \"2024-01-01\",\n",
    "  'endDt': \"2025-01-01\",\n",
    "  'panNm': \"\",\n",
    "  'listCo': \"100\"\n",
    "\n",
    "}\n",
    "\n",
    "userAgent = 'Mozilla/5.0 (Windows NT 10.0; Win64; x64) AppleWebKit/537.36 (KHTML, like Gecko) Chrome/131.0.0.0 Safari/537.36'\n",
    "postHeaders = {\n",
    "               'User-Agent': userAgent\n",
    "              }\n",
    "\n",
    "response = requests.post(url, formData, headers=postHeaders) \n",
    "if response.status_code == 200:\n",
    "    html_content = response.text\n",
    "    print(\"POST 요청 성공, 페이지를 렌더링합니다.\")\n",
    "else:\n",
    "    print(f\"POST 요청 실패: {response.status_code}\")\n",
    "    driver.quit()\n",
    "    exit()\n",
    "\n",
    "\n",
    "driver.execute_script(\"document.open(); document.write(arguments[0]); document.close();\", html_content)\n",
    "time.sleep(5)\n",
    "\n",
    "houses = driver.find_elements(By.CSS_SELECTOR, \"#srchForm > section:nth-child(15) > div.bbs_ListA > table > tbody > tr\")\n",
    "print(houses)\n",
    "for house in houses:\n",
    "  house_link = house.find_element(By.CSS_SELECTOR, \"td.mVw.bbs_tit > a\")\n",
    "  house_link.click()\n",
    "  time.sleep(8)\n",
    "  pdf_load = driver.find_element(By.CSS_SELECTOR, 'div.bbsV_atchmnfl > dl.col_red > dd > ul > li')\n",
    "  pdf_load.find_element(By.XPATH, \"//a[contains(text(), '.pdf')]\").click()\n",
    "\n",
    "  driver.find_element(By.CSS_SELECTOR, \"div.mobHeader > a\").click()\n",
    "  "
   ]
  }
 ],
 "metadata": {
  "kernelspec": {
   "display_name": "Python 3",
   "language": "python",
   "name": "python3"
  },
  "language_info": {
   "codemirror_mode": {
    "name": "ipython",
    "version": 3
   },
   "file_extension": ".py",
   "mimetype": "text/x-python",
   "name": "python",
   "nbconvert_exporter": "python",
   "pygments_lexer": "ipython3",
   "version": "3.11.9"
  }
 },
 "nbformat": 4,
 "nbformat_minor": 2
}
